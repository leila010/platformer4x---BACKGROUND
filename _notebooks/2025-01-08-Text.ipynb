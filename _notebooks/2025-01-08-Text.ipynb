{
 "cells": [
  {
   "cell_type": "code",
   "execution_count": null,
   "metadata": {
    "vscode": {
     "languageId": "html"
    }
   },
   "outputs": [],
   "source": [
    "---\n",
    "comments: true\n",
    "layout: post\n",
    "title: Incorporating Text/Messages\n",
    "description: A way to have text in your game.\n",
    "permalink: /first/\n",
    "categories: Backgrounds_Theme_Messages\n",
    "---"
   ]
  },
  {
   "cell_type": "markdown",
   "metadata": {},
   "source": [
    "## <span style=\"color:rgb(255, 255, 255); text-shadow: 3px 3px 8pxrgb(243, 0, 4); font-weight: bold; font-size: 1.3em;\">Incorporating Text/Messages</span>"
   ]
  },
  {
   "cell_type": "markdown",
   "metadata": {},
   "source": [
    "This is a way to have some text display in your own game like in platformer4x."
   ]
  },
  {
   "cell_type": "markdown",
   "metadata": {
    "vscode": {
     "languageId": "html"
    }
   },
   "source": [
    "In order to be able to display the different text messages, you need to set up a div as the container for the different messages. This provides the basic html structure. This would go into the index.md file or something similar. The javascript will be updating the html elements with the ids \"fun_facts\" and \"num\". The ids are what allow the javascript to find and update these html elements."
   ]
  },
  {
   "cell_type": "code",
   "execution_count": null,
   "metadata": {
    "vscode": {
     "languageId": "html"
    }
   },
   "outputs": [],
   "source": [
    "<div id=\"container\">\n",
    "    <header class=\"fun_facts\">\n",
    "    <p id=\"num\">Fun Fact #0</p>\n",
    "    <h3 id=\"fun_fact\">Trivia info</h3>\n",
    "    </header>\n",
    "  </div>"
   ]
  },
  {
   "cell_type": "markdown",
   "metadata": {},
   "source": [
    "Then you have the javascript with the actual fun facts or other text information you want to display."
   ]
  },
  {
   "cell_type": "code",
   "execution_count": null,
   "metadata": {
    "vscode": {
     "languageId": "javascript"
    }
   },
   "outputs": [],
   "source": [
    "var fun_facts = {\n",
    "    //data structure\n",
    "    \"Fun Fact #1\": \"Mario's full name is Mario Mario.\", //key and value\n",
    "    \"Fun Fact #2\": \"Mario's least favorite food is shiitake mushrooms.\", //single quotes to include the double quotes\n",
    "    \"Fun Fact #3\": \"Mario, in human years, is 24-25 years old.\",\n",
    "    \"Fun Fact #4\": \"Mario's girlfriend's name is Pauline.\",\n",
    "    \"Fun Fact #5\": \"Call or text 929-55-MARIO (929-556-2746) to get a fun surprise!\",\n",
    "    \"Fun Fact #6\": \"Mario's original name was Jumpman.\",\n",
    "    \"Fun Fact #7\": \"March 10th is known as Mario Day because the abbreviation for March 10th (Mar10) looks like Mario.\",\n",
    "    \"Fun Fact #8\": \"Mario was originally a carpenter, not a plumber.\",\n",
    "    \"Fun Fact #9\": \"There are actually lyrics to the Mario theme song.\"\n",
    "  }"
   ]
  },
  {
   "cell_type": "markdown",
   "metadata": {},
   "source": [
    "This is an example from platformer4x of the variable created for the fun facts, containing all the keys and values for each fun fact. The values are all the actual fun facts/messages. For your own game you could change these values to whatever messages you want to display."
   ]
  },
  {
   "cell_type": "code",
   "execution_count": null,
   "metadata": {
    "vscode": {
     "languageId": "javascript"
    }
   },
   "outputs": [],
   "source": [
    "function generate() {\n",
    "    var nums = Object.keys(fun_facts);\n",
    "    var num = nums[Math.floor(Math.random() * nums.length)]\n",
    "    var fun_fact = fun_facts[num];\n",
    "    document.getElementById(\"fun_fact\").innerHTML = fun_fact;\n",
    "    document.getElementById(\"num\").innerHTML = num;\n",
    "  }"
   ]
  },
  {
   "cell_type": "markdown",
   "metadata": {},
   "source": [
    "This function takes the keys from fun_facts (e.g \"Fun Fact #1\", \"Fun Fact #2\", etc.) and stores them into the nums variable. From nums a random key is selected and gets the corresponding fun fact. This will be the fun fact that gets displayed."
   ]
  },
  {
   "cell_type": "code",
   "execution_count": null,
   "metadata": {
    "vscode": {
     "languageId": "javascript"
    }
   },
   "outputs": [],
   "source": [
    "let k = 0;\n",
    "    let interval2 = setInterval(() => {\n",
    "      generate();\n",
    "      k++;\n",
    "      if (k == fun_facts.length) {\n",
    "        clearInterval(interval2);\n",
    "      }\n",
    "    }, 3000);"
   ]
  },
  {
   "cell_type": "markdown",
   "metadata": {},
   "source": [
    "This is the last part that actually leads to displaying the messages. A counter is initially set to 0. Then there is a setInterval which is set to run the generate function, in this case, every 3000 milliseconds (3 seconds). This makes it so that each fact/message is displayed for 3 seconds before the next one is displayed. You can change this by changing the number of milliseconds to make the time in between shorter or longer to whatever you prefer. After the generate function is called, the counter is updated. The counter keeps track of how many times a fact was displayed and with conditional stops the interval once all the facts have been displayed."
   ]
  }
 ],
 "metadata": {
  "language_info": {
   "name": "python"
  }
 },
 "nbformat": 4,
 "nbformat_minor": 2
}
