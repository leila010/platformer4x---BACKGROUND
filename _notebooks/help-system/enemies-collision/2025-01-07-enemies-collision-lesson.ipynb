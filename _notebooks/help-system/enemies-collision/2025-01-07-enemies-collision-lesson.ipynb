{
 "cells": [
  {
   "cell_type": "raw",
   "metadata": {
    "vscode": {
     "languageId": "raw"
    }
   },
   "source": [
    "---\n",
    "author: Cason Pollak, Veera Kalakota, Ethan Wong\n",
    "layout: post\n",
    "title: Enemies & Collision in the Platformer Game\n",
    "description: A lesson on enemies and collision in the platformer game\n",
    "permalink: /help-system/enemies-collision/lesson\n",
    "categories: [Enemies and Collision]\n",
    "toc: true\n",
    "comments: true\n",
    "---"
   ]
  },
  {
   "cell_type": "markdown",
   "metadata": {},
   "source": [
    "\n",
    "# <span style=\"color: pink; text-shadow: 2px 2px 5px pink;\">Enemies & Collision</span>"
   ]
  },
  {
   "cell_type": "markdown",
   "metadata": {},
   "source": [
    "### Basics of Enemies and Collisions in the platformer game \n",
    "\n",
    "Here is what you need to know about enemies and how they interact in the platformer game:\n",
    "\n",
    "##### **What is an Enemy?**  \n",
    "- An enemy is a game object designed to challenge the player\n",
    "- They can move and be defeated  \n",
    "\n",
    "##### **What Must Enemies Do?**  \n",
    "- **Move:** Enemies have movement patterns, for the goombas it is randomzied horizontal movement \n",
    "- **Collide:** They interact with the player, such as dealing damage or being destroyed\n",
    "- **React:** Enemies die when hit by the player\n",
    "\n",
    "##### **Collision Basics:**  \n",
    "- Collisions determine how enemies and players interact\n",
    "- Use boundaries or hitboxes to check if they touch\n",
    "\n",
    " ##### **Common results of collisions:**\n",
    "  - **Player Hits Enemy:** Player takes damage  \n",
    "  - **Player Jumps on Enemy:** Enemy is defeated\n",
    "\n",
    "##### **Styling and Design:**  \n",
    "- The enemies fit the game’s theme (appearance, behavior, and placement)  \n",
    "-  Enemies challenge but not overwhelm the player\n",
    "\n",
    "### Now that we are done with the boring stuff, we can start what we actaully need to do to create an enemy with basic features\n",
    "\n",
    "---"
   ]
  },
  {
   "cell_type": "markdown",
   "metadata": {},
   "source": [
    "## How Enemies were created in the Game\n",
    "\n",
    "### Step 1 - Creating the Enemy\n",
    "\n",
    "1. **Create the Enemy File**  \n",
    "   - In `assets/js/platformer`, a file called `Enemy.js` can be seen\n",
    "\n",
    "2. **Define the Enemy Class**  \n"
   ]
  },
  {
   "cell_type": "code",
   "execution_count": null,
   "metadata": {
    "vscode": {
     "languageId": "javascript"
    }
   },
   "outputs": [],
   "source": [
    "%%js\n",
    "\n",
    "import Character from './Character.js';\n",
    "import GameEnv from './GameEnv.js';\n",
    "\n",
    "export class Enemy extends Character {\n",
    "    // constructors sets up Character object \n",
    "    constructor(canvas, image, speedRatio, enemyData){\n",
    "        super(canvas, \n",
    "            image, \n",
    "            speedRatio,\n",
    "            enemyData.width, \n",
    "            enemyData.height, \n",
    "        );\n",
    "\n",
    "        // Player Data is required for Animations\n",
    "        this.enemyData = enemyData;\n",
    "    }\n",
    "}\n",
    "\n",
    "export default Enemy\n"
   ]
  },
  {
   "cell_type": "markdown",
   "metadata": {},
   "source": [
    "- Note the `Enemy` class extends the `Character` class"
   ]
  },
  {
   "cell_type": "markdown",
   "metadata": {},
   "source": [
    "3. **Add Enemy to Main Game**  \n",
    "   - Define the enemy in the assets object (define the enemy’s image source and size)\n"
   ]
  },
  {
   "cell_type": "code",
   "execution_count": null,
   "metadata": {
    "vscode": {
     "languageId": "javascript"
    }
   },
   "outputs": [],
   "source": [
    "%%js \n",
    "\n",
    "var assets = {\n",
    "    enemies: {\n",
    "        goomba: {\n",
    "            src: \"/images/platformer/sprites/goomba.png\",\n",
    "            width: 448,\n",
    "            height: 452,\n",
    "        }\n",
    "    }\n",
    "};\n"
   ]
  },
  {
   "cell_type": "markdown",
   "metadata": {},
   "source": [
    "4. **Include Enemy in Game Levels**\n",
    "\n",
    "    - Add the enemy to the game level setup:"
   ]
  },
  {
   "cell_type": "code",
   "execution_count": null,
   "metadata": {
    "vscode": {
     "languageId": "javascript"
    }
   },
   "outputs": [],
   "source": [
    "%%js\n",
    "\n",
    "new GameLevel({\n",
    "    tag: \"hills\",\n",
    "    background: assets.backgrounds.hills,\n",
    "    platform: assets.platforms.grass,\n",
    "    player: assets.players.mario,\n",
    "    enemy: assets.enemies.goomba,\n",
    "    tube: assets.obstacles.tube,\n",
    "    callback: testerCallBack\n",
    "});\n"
   ]
  },
  {
   "cell_type": "markdown",
   "metadata": {},
   "source": [
    "- This integrates the enemy into the game\n",
    "\n",
    "---"
   ]
  },
  {
   "cell_type": "markdown",
   "metadata": {},
   "source": [
    "### Step 2 - Basic Features\n",
    "\n",
    "1. **Add Movement to the Enemy**  \n",
    "   - Update the `Enemy` class to include movement"
   ]
  },
  {
   "cell_type": "code",
   "execution_count": null,
   "metadata": {
    "vscode": {
     "languageId": "javascript"
    }
   },
   "outputs": [],
   "source": [
    "%%js\n",
    "\n",
    "update() {\n",
    "    // Reverse direction at boundaries\n",
    "    if (this.x <= 0 || this.x + this.width >= GameEnv.innerWidth) {\n",
    "        this.speed = -this.speed;\n",
    "    }\n",
    "\n",
    "    // Move the enemy\n",
    "    this.x += this.speed;\n",
    "}"
   ]
  },
  {
   "cell_type": "markdown",
   "metadata": {},
   "source": [
    "- The enemy moves left and right, reversing direction at the canvas edges\n",
    "\n",
    "2.  **Add Collisions**\n",
    "\n",
    "- Collision logic is handled in `Player.js` using existing frameworks\n",
    "- Example collision handling code:"
   ]
  },
  {
   "cell_type": "markdown",
   "metadata": {},
   "source": [
    "**NOTE:** Mr. Mortensen has already laid out the foundation for the collision code. We aren't coding the actual logic for collisions here but rather a simpler version of such. Code for collisions will be handled in Player.js rather than in the Enemy file"
   ]
  },
  {
   "cell_type": "code",
   "execution_count": null,
   "metadata": {
    "vscode": {
     "languageId": "javascript"
    }
   },
   "outputs": [],
   "source": [
    "%%js \n",
    "\n",
    "if (this.collisionData.touchPoints.other.id === \"enemy\") {\n",
    "    if (this.collisionData.touchPoints.other.left) {\n",
    "        // Reset game (player hit enemy from the side)\n",
    "    }\n",
    "    if (this.collisionData.touchPoints.other.right) {\n",
    "        deathController.setDeath(1);\n",
    "        // Reset game (player hit enemy from the other side)\n",
    "    }\n",
    "    if (this.collisionData.touchPoints.other.ontop) {\n",
    "        // Defeat enemy and make player bounce\n",
    "    }\n",
    "}\n"
   ]
  },
  {
   "cell_type": "markdown",
   "metadata": {},
   "source": [
    "- This ensures the player and enemy can interact effectively\n",
    "\n",
    "---\n",
    "\n",
    "### Summary\n",
    "\n",
    "- Define the enemy in the `assets` object\n",
    "- Add movement and boundary detection to the enemy\n",
    "- Handle collisions in the Player.js file\n"
   ]
  }
 ],
 "metadata": {
  "language_info": {
   "name": "python"
  }
 },
 "nbformat": 4,
 "nbformat_minor": 2
}
