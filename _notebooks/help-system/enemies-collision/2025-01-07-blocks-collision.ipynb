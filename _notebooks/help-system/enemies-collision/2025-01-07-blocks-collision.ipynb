{
 "cells": [
  {
   "cell_type": "raw",
   "metadata": {
    "vscode": {
     "languageId": "raw"
    }
   },
   "source": [
    "---\n",
    "author: Cason Pollak, Veera Kalakota, Ethan Wong\n",
    "layout: post\n",
    "title: Collision with blocks\n",
    "description: Lesson on collision with blocks in the platformer game\n",
    "permalink: /help-system/enemies-collision/blocks\n",
    "categories: [Enemies and Collision]\n",
    "toc: true\n",
    "comments: true\n",
    "---"
   ]
  },
  {
   "cell_type": "markdown",
   "metadata": {},
   "source": [
    "\n",
    "# <span style=\"color: purple; text-shadow: 2px 2px 5px purple;\">Collisions with blocks</span>"
   ]
  },
  {
   "cell_type": "markdown",
   "metadata": {},
   "source": [
    "In this lesson, we’ll be going over the different characteristics of block collisions and how you can add fully functional block collisions into your own game."
   ]
  },
  {
   "cell_type": "markdown",
   "metadata": {},
   "source": [
    "#### Step 1 - Creating the Block\n",
    "The first step in creating the block in the game is creating a new file just for it. The file should be in platformer and should be called Block.js or something related. Once you have created the file, we shall now start defining the Block class.\n",
    "\n"
   ]
  },
  {
   "cell_type": "code",
   "execution_count": null,
   "metadata": {
    "vscode": {
     "languageId": "javascript"
    }
   },
   "outputs": [],
   "source": [
    "import GameObject from './GameObject.js';\n",
    "import GameEnv from './GameEnv.js';\n",
    "\n",
    "export class Block extends GameObject {\n",
    "    // Constructor sets up Block object\n",
    "    constructor(canvas, image, blockData) {\n",
    "        super(canvas, image, blockData.width, blockData.height);\n",
    "        this.blockData = blockData;\n",
    "    }\n",
    "\n",
    "    // Update method to handle block logic\n",
    "    update() {\n",
    "        // Add block-specific update logic here if needed\n",
    "    }\n",
    "}\n",
    "\n",
    "export default Block;"
   ]
  },
  {
   "cell_type": "markdown",
   "metadata": {},
   "source": [
    "This code is similar to the enemy code but tailored for blocks. The Block class extends the GameObject class, and we can start defining the different properties and methods for our block."
   ]
  },
  {
   "cell_type": "markdown",
   "metadata": {},
   "source": [
    "After configuring the block in Block.js, you will then have to connect Block to the main game. There are two files in which you’ll have to do this: the main file where the game is initialized and GameLevels.js where the block is actually created as an instance.\n",
    "\n",
    "First, we’ll be adding the block into the main file. You’ll notice here that there is a variable that defines all the different assets of the game. Players, Backgrounds, Obstacles, etc."
   ]
  },
  {
   "cell_type": "code",
   "execution_count": null,
   "metadata": {
    "vscode": {
     "languageId": "javascript"
    }
   },
   "outputs": [],
   "source": [
    "var assets = {\n",
    "    // previous code above ...\n",
    "\n",
    "    platforms: {\n",
    "        grass: {\n",
    "            src: \"/images/platformer/platforms/grass.png\",\n",
    "            width: 256,\n",
    "            height: 256,\n",
    "        },\n",
    "        block: {\n",
    "            src: \"/images/platformer/platforms/block.png\",\n",
    "            width: 256,\n",
    "            height: 256,\n",
    "        },\n",
    "    },\n",
    "};"
   ]
  },
  {
   "cell_type": "markdown",
   "metadata": {},
   "source": [
    "Here is a snippet on how one of the platforms is defined. We can base our block after the platform. Our block has an image (src), a width, and a height.\n",
    "\n",
    "Once we define the block in assets, we’ll have to add it to the GameLevel (refer to the code)."
   ]
  },
  {
   "cell_type": "code",
   "execution_count": null,
   "metadata": {
    "vscode": {
     "languageId": "javascript"
    }
   },
   "outputs": [],
   "source": [
    "new GameLevel(\n",
    "    { tag: \"hills\", \n",
    "        background: assets.backgrounds.hills, \n",
    "        platform: assets.platforms.grass, \n",
    "        player: assets.players.mario, block: assets.platforms.block, \n",
    "        tube: assets.obstacles.tube, callback: testerCallBack \n",
    "    });"
   ]
  },
  {
   "cell_type": "markdown",
   "metadata": {},
   "source": [
    "#### Step 2 - Handling Collisions\n",
    "Now that we have the block actually defined and created within our game, we can now begin the process of handling collisions between the player and the block."
   ]
  },
  {
   "cell_type": "markdown",
   "metadata": {},
   "source": [
    "Collision detection is crucial for ensuring smooth gameplay. We need to check if the player collides with the block and handle the collision appropriately.\n",
    "\n",
    "The following is how this can be done (this will be added onto the Player class):"
   ]
  },
  {
   "cell_type": "code",
   "execution_count": null,
   "metadata": {
    "vscode": {
     "languageId": "javascript"
    }
   },
   "outputs": [],
   "source": [
    "// Check for collisions with blocks\n",
    "checkBlockCollision(block) {\n",
    "    if (this.x < block.x + block.width &&\n",
    "        this.x + this.width > block.x &&\n",
    "        this.y < block.y + block.height &&\n",
    "        this.y + this.height > block.y) {\n",
    "        // Collision detected, handle it\n",
    "        this.handleBlockCollision(block);\n",
    "    }\n",
    "}\n",
    "\n",
    "handleBlockCollision(block) {\n",
    "    // Handle the collision with the block\n",
    "    // For example, stop the player's movement or bounce off the block\n",
    "    if (this.y + this.height <= block.y + block.height / 2) {\n",
    "        // Collision from the top\n",
    "        this.y = block.y - this.height;\n",
    "        this.velocityY = 0; // Stop downward movement\n",
    "    } else if (this.y >= block.y + block.height / 2) {\n",
    "        // Collision from the bottom\n",
    "        this.y = block.y + block.height;\n",
    "        this.velocityY = 0; // Stop upward movement\n",
    "    } else if (this.x + this.width <= block.x + block.width / 2) {\n",
    "        // Collision from the left\n",
    "        this.x = block.x - this.width;\n",
    "        this.velocityX = 0; // Stop rightward movement\n",
    "    } else if (this.x >= block.x + block.width / 2) {\n",
    "        // Collision from the right\n",
    "        this.x = block.x + block.width;\n",
    "        this.velocityX = 0; // Stop leftward movement\n",
    "    }\n",
    "}"
   ]
  },
  {
   "cell_type": "markdown",
   "metadata": {},
   "source": [
    "The code checks for collisions between the player and the block and handles the collision by stopping the player's movement or bouncing off the block."
   ]
  },
  {
   "cell_type": "markdown",
   "metadata": {},
   "source": [
    "#### Summary\n",
    "In this lesson, we covered the basics of creating a block, handling collisions with the player, and integrating the block into the game. By following these steps, you can add fully functional block collisions to your platformer game."
   ]
  }
 ],
 "metadata": {
  "language_info": {
   "name": "python"
  }
 },
 "nbformat": 4,
 "nbformat_minor": 2
}
