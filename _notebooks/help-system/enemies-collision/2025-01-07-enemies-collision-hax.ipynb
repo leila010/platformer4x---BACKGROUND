{
 "cells": [
  {
   "cell_type": "raw",
   "metadata": {
    "vscode": {
     "languageId": "raw"
    }
   },
   "source": [
    "---\n",
    "author: Cason Pollak, Veera Kalakota, Ethan Wong\n",
    "layout: post\n",
    "title: Enemies & Collision Hacks\n",
    "description: Hacks on enemies and collision in the platformer game\n",
    "permalink: /help-system/enemies-collision/hax\n",
    "categories: [Enemies and Collision]\n",
    "toc: true\n",
    "comments: true\n",
    "---"
   ]
  },
  {
   "cell_type": "markdown",
   "metadata": {},
   "source": [
    "\n",
    "# <span style=\"color: blue; text-shadow: 2px 2px 5px blue;\">Enemies & Collision Hacks</span>"
   ]
  },
  {
   "cell_type": "markdown",
   "metadata": {},
   "source": [
    "### Possible Hacks / Extra Features\n",
    "**Using your newly gained knowledge on enemies and collisions, try some of these out to strengthen your skills!**\n",
    "\n",
    "- Implement an enemy into your own RPG game\n",
    "- Add what happens in the event of a collision\n",
    "- Add special events occur at random\n",
    "- Give your enemies a new way of dying\n",
    "- Give your enemies a new way to kill or adjust the range they can kill from"
   ]
  }
 ],
 "metadata": {
  "language_info": {
   "name": "python"
  }
 },
 "nbformat": 4,
 "nbformat_minor": 2
}
