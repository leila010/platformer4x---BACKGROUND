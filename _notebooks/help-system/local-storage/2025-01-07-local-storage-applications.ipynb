{
 "cells": [
  {
   "cell_type": "code",
   "execution_count": null,
   "metadata": {
    "vscode": {
     "languageId": "yaml"
    }
   },
   "outputs": [],
   "source": [
    "---\n",
    "author: Ethan Fu\n",
    "layout: post\n",
    "title: Local Storage Applications\n",
    "description: What more can you do??\n",
    "permalink: /local-storage/applications\n",
    "menu: nav/local_storage.html\n",
    "categories: [Local Storage]\n",
    "toc: true\n",
    "---"
   ]
  },
  {
   "cell_type": "markdown",
   "metadata": {},
   "source": [
    "# What Else Can You Use Local Storage For?\n",
    "\n",
    "If you want to cache user data for multiple sessions, you can use local storage! (As long as the data is smaller than 5 MB, which is the limit)\n",
    "\n",
    "Local storage has two main uses on websites:\n",
    "- Storing user preferences\n",
    "- Saving user progress (such as text)\n",
    "\n",
    "![skull](https://media1.tenor.com/m/ykQxscm4x1cAAAAd/skull-skull-skull-skull-skull-skull-skull-skull.gif)"
   ]
  },
  {
   "cell_type": "markdown",
   "metadata": {},
   "source": [
    "## How?\n",
    "\n",
    "All the data is stored in local storage in key value pairs, similar to the example given before. Since these are all simple pieces of data, all you would have to do to make the local storage function work for something else is to define new key value pairs and make them actually do things by making the functions for updating local storage additionally run code that actually changes the user frontend to save preferences."
   ]
  },
  {
   "cell_type": "markdown",
   "metadata": {},
   "source": [
    "### Demo:\n",
    "(Written in html to actually function on the site)"
   ]
  },
  {
   "cell_type": "markdown",
   "metadata": {},
   "source": [
    "<br>"
   ]
  },
  {
   "cell_type": "markdown",
   "metadata": {
    "vscode": {
     "languageId": "html"
    }
   },
   "source": [
    "<div>\n",
    "    <button onclick=\"saveLight()\">Light Mode</button>\n",
    "    <button onclick=\"saveDark()\">Dark Mode</button>\n",
    "    <button onclick=\"showPreference()\">Show Preference</button>\n",
    "    <pre id=\"output\" style=\"border: 1px solid #ccc; padding: 10px; background-color: rgb(15, 15, 15);\"></pre>\n",
    "    <div id=\"colorSquare\" style=\"width: 100px; height: 100px; border: 1px solid #000; margin-top: 10px; background-color: #ccc;\"></div>\n",
    "</div>\n",
    "\n",
    "<script>\n",
    "function saveLight() {\n",
    "    localStorage.setItem(\"theme\", \"light\");\n",
    "    alert(\"Data saved!\");\n",
    "    updateSquareColor();\n",
    "}\n",
    "\n",
    "function saveDark() {\n",
    "    localStorage.setItem(\"theme\", \"dark\");\n",
    "    alert(\"Data saved!\");\n",
    "    updateSquareColor();\n",
    "}\n",
    "\n",
    "function showPreference() {\n",
    "    const data = localStorage.getItem(\"theme\");\n",
    "    document.getElementById(\"output\").innerText = data ? `Theme: ${data}` : \"No data found\";\n",
    "}\n",
    "\n",
    "function updateSquareColor() {\n",
    "    const theme = localStorage.getItem(\"theme\");\n",
    "    const square = document.getElementById(\"colorSquare\");\n",
    "    if (theme === \"light\") {\n",
    "        square.style.backgroundColor = \"#e9e3f2\";\n",
    "    } else if (theme === \"dark\") {\n",
    "        square.style.backgroundColor = \"#2b2731\";\n",
    "    } else {\n",
    "        square.style.backgroundColor = \"#e9e3f2\";\n",
    "    }\n",
    "}\n",
    "\n",
    "updateSquareColor();\n",
    "</script>"
   ]
  },
  {
   "cell_type": "markdown",
   "metadata": {},
   "source": [
    "### Code Example with comments:"
   ]
  },
  {
   "cell_type": "code",
   "execution_count": null,
   "metadata": {
    "vscode": {
     "languageId": "html"
    }
   },
   "outputs": [],
   "source": [
    "<div>\n",
    "    <button onclick=\"saveLight()\">Light Mode</button>\n",
    "    <button onclick=\"saveDark()\">Dark Mode</button>\n",
    "    <button onclick=\"showPreference()\">Show Preference</button>\n",
    "    <pre id=\"output\" style=\"border: 1px solid #ccc; padding: 10px; background-color: rgb(15, 15, 15);\"></pre>\n",
    "    <div id=\"colorSquare\" style=\"width: 100px; height: 100px; border: 1px solid #000; margin-top: 10px; background-color: #ccc;\"></div>\n",
    "</div>\n",
    "\n",
    "<script>\n",
    "function saveLight() { // Saves light mode preference\n",
    "    localStorage.setItem(\"theme\", \"light\"); // Changes the value for the key (theme) to light\n",
    "    alert(\"Data saved!\");\n",
    "    updateSquareColor(); // Updates the square color\n",
    "}\n",
    "\n",
    "function saveDark() { // Saves light mode preference\n",
    "    localStorage.setItem(\"theme\", \"dark\"); // Changes the value for the key (theme) to dark \n",
    "    alert(\"Data saved!\");\n",
    "    updateSquareColor(); // Updates the square color\n",
    "}\n",
    "\n",
    "function showPreference() { // Shows what preference is currently active\n",
    "    const data = localStorage.getItem(\"theme\");\n",
    "    document.getElementById(\"output\").innerText = data ? `Theme: ${data}` : \"No data found\";\n",
    "}\n",
    "\n",
    "function updateSquareColor() { // Function that visually shows the change in theme\n",
    "    const theme = localStorage.getItem(\"theme\");\n",
    "    const square = document.getElementById(\"colorSquare\");\n",
    "    if (theme === \"light\") {\n",
    "        square.style.backgroundColor = \"#e9e3f2\"; // Changes to light theme when theme's value is light\n",
    "    } else if (theme === \"dark\") {\n",
    "        square.style.backgroundColor = \"#2b2731\"; // Changes to light theme when theme's value is dark\n",
    "    } else {\n",
    "        square.style.backgroundColor = \"#e9e3f2\"; // Default theme when no preference is set (light)\n",
    "    }\n",
    "}\n",
    "\n",
    "updateSquareColor();\n",
    "</script>"
   ]
  },
  {
   "cell_type": "markdown",
   "metadata": {},
   "source": [
    "And just like that, you can use local storage to save user preferences!!!!!!!!!!!!!!!!!!!!!!!!!!!!!!!!!!!!!!!!!! \n",
    "If you'll notice, when you reload or close and reopen the page, the previous theme you had will still be visible on the square!\n",
    "\n",
    "Using similar logic, you can also use local storage to save user inputs, but that's up to you to figure out yourself :)"
   ]
  },
  {
   "cell_type": "markdown",
   "metadata": {},
   "source": [
    "### Summary\n",
    "\n",
    "By assigning functions that run based on locally stored data, you can save user preferences.\n",
    "\n",
    "(unofficial homework: figure out how to save user text for yourself)"
   ]
  }
 ],
 "metadata": {
  "kernelspec": {
   "display_name": "Python 3",
   "language": "python",
   "name": "python3"
  },
  "language_info": {
   "codemirror_mode": {
    "name": "ipython",
    "version": 3
   },
   "file_extension": ".py",
   "mimetype": "text/x-python",
   "name": "python",
   "nbconvert_exporter": "python",
   "pygments_lexer": "ipython3",
   "version": "3.10.12"
  }
 },
 "nbformat": 4,
 "nbformat_minor": 2
}
