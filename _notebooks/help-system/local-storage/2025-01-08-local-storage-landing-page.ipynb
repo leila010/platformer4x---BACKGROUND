{
 "cells": [
  {
   "cell_type": "code",
   "execution_count": null,
   "metadata": {
    "vscode": {
     "languageId": "yaml"
    }
   },
   "outputs": [],
   "source": [
    "---\n",
    "author: Lucas Masterson\n",
    "layout: post\n",
    "title: Local Storage Landing Page\n",
    "description: Landing page for the Local Storage section\n",
    "permalink: /local-storage/landing/\n",
    "menu: nav/local_storage.html\n",
    "categories: [Local Storage]\n",
    "toc: true\n",
    "---"
   ]
  },
  {
   "cell_type": "markdown",
   "metadata": {},
   "source": [
    "Welcome to Local Storage!\n",
    "\n",
    "![welcome](https://media1.tenor.com/m/Mle3dtAOrfEAAAAd/cat-keyboard.gif)"
   ]
  }
 ],
 "metadata": {
  "language_info": {
   "name": "python"
  }
 },
 "nbformat": 4,
 "nbformat_minor": 2
}
