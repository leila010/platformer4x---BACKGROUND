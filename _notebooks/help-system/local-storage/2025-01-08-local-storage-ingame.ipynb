{
 "cells": [
  {
   "cell_type": "code",
   "execution_count": null,
   "metadata": {
    "vscode": {
     "languageId": "yaml"
    }
   },
   "outputs": [],
   "source": [
    "---\n",
    "layout: post\n",
    "title: Local Storage In-Game\n",
    "author: Alex Van Linge\n",
    "description: The current usage of local storage in game \n",
    "permalink: /local-storage/in-game/\n",
    "menu: nav/local_storage.html\n",
    "toc: true\n",
    "---"
   ]
  },
  {
   "cell_type": "markdown",
   "metadata": {},
   "source": [
    "<br>"
   ]
  },
  {
   "cell_type": "markdown",
   "metadata": {},
   "source": [
    "# Usage of Local Storage in Game \n",
    "\n",
    "Currently in game, local storage is used in numerous of the js files for the platformer. \n",
    "\n",
    "One of the places where Local Storage is used is in `SettingsControl.js`, where it is used to save and load several settings in the game like the user ID, the current level, game speed, gravity, and difficulty\n",
    "\n",
    "```js\n",
    "localStorage.setItem('funFact', GameEnv.funFact);\n",
    "localStorage.setItem(lightmodekey, GameEnv.isLightMode);\n",
    "this.save(this.keys.userID);\n",
    "this.save(this.keys.currentLevel);\n",
    "this.save(this.keys.isInverted);\n",
    "this.save(this.keys.gameSpeed);\n",
    "this.save(this.keys.gravity);\n",
    "this.save(this.keys.difficulty);\n",
    "```\n",
    "\n",
    "Another place that it is used is in `GameControl.js`, where it is used for saving and loading game times. \n",
    "\n",
    "```js\n",
    "const data = {\n",
    "    userID: GameEnv.userID,\n",
    "    time: GameEnv.time - 10,\n",
    "    coinScore: GameEnv.coinScore,\n",
    "    date: Date(),\n",
    "    gameSpeed: GameEnv.gameSpeed,\n",
    "    difficulty: GameEnv.difficulty\n",
    "};\n",
    "\n",
    "const currDataList = JSON.parse(localStorage.getItem(this.localStorageTimeKey));\n",
    "\n",
    "if (!currDataList || !Array.isArray(currDataList)) {\n",
    "    localStorage.setItem(this.localStorageTimeKey, JSON.stringify([data]));\n",
    "    return;\n",
    "}\n",
    "\n",
    "currDataList.push(data);\n",
    "localStorage.setItem(this.localStorageTimeKey, JSON.stringify(currDataList));\n",
    "```\n",
    "\n",
    "\n",
    "\n"
   ]
  },
  {
   "cell_type": "markdown",
   "metadata": {},
   "source": [
    "## Further Explanation \n",
    "\n",
    "To be more in depth, this code works by creating a data object, that collects several types of data like userID, coinScore, etc.\n",
    "\n",
    "After this it checks for saved data in localStorage with `this.localStorageTimekey` and if no data is found then it creates a new list with the current data and saves it \n",
    "\n",
    "Now if there is a list of saved data, then it adds new data to the list and then saves this updated list back into the local storage. Neat huh! (i am in pain)"
   ]
  },
  {
   "cell_type": "markdown",
   "metadata": {},
   "source": [
    "## Leaderboard\n",
    "\n",
    "Recently me and my team members discovered that the mythical leaderboard apparently does work, after previously believeing the opposite.\n",
    "\n",
    "Here is the code that saves and loads the leaderboard data, which includes both time and coin scores"
   ]
  },
  {
   "cell_type": "code",
   "execution_count": null,
   "metadata": {
    "vscode": {
     "languageId": "javascript"
    }
   },
   "outputs": [],
   "source": [
    "const localData = JSON.parse(localStorage.getItem(this.currentKey));\n",
    "localStorage.setItem(this.currentKey, JSON.stringify([data]));\n",
    "localStorage.setItem(this.currentKey, JSON.stringify(currDataList));"
   ]
  },
  {
   "cell_type": "markdown",
   "metadata": {},
   "source": [
    "## Detailed Code Excerpts\n",
    "\n",
    "This is what physically saves and loads the leaderboard data, the function being `getTimeSortedLeaderboardData`, `getCoinSortedLeaderboardData`, and `getDateSortedLeaderboardData`."
   ]
  },
  {
   "cell_type": "code",
   "execution_count": null,
   "metadata": {
    "vscode": {
     "languageId": "javascript"
    }
   },
   "outputs": [],
   "source": [
    "%%js\n",
    "getTimeSortedLeaderboardData (slowestFirst) {\n",
    "    const localData = JSON.parse(localStorage.getItem(this.currentKey));\n",
    "    if (!localData) {\n",
    "        console.log(\"NO DATA\");\n",
    "        return [];\n",
    "    }\n",
    "    localData.sort((a, b) => a.time - b.time);\n",
    "    if (slowestFirst) {\n",
    "        localData.reverse();\n",
    "    }\n",
    "    return localData;\n",
    "}"
   ]
  },
  {
   "cell_type": "code",
   "execution_count": null,
   "metadata": {
    "vscode": {
     "languageId": "javascript"
    }
   },
   "outputs": [],
   "source": [
    "%%js\n",
    "getCoinScoreSortedLeaderboardData (highestFirst) {\n",
    "    const localData = JSON.parse(localStorage.getItem(this.currentKey));\n",
    "    if (!localData) {\n",
    "        console.log(\"NO DATA\");\n",
    "        return [];\n",
    "    }\n",
    "    localData.sort((a, b) => a.coinScore - b.coinScore);\n",
    "    if (highestFirst) {\n",
    "        localData.reverse();\n",
    "    }\n",
    "    return localData;\n",
    "}"
   ]
  },
  {
   "cell_type": "code",
   "execution_count": null,
   "metadata": {
    "vscode": {
     "languageId": "javascript"
    }
   },
   "outputs": [],
   "source": [
    "%%js\n",
    "getDateSortedLeaderboardData (newestFirst) {\n",
    "    const localData = JSON.parse(localStorage.getItem(this.currentKey));\n",
    "    if (!localData) {\n",
    "        console.log(\"NO DATA\");\n",
    "        return [];\n",
    "    }\n",
    "    localData.sort((a, b) => new Date(a.date) - new Date(b.date));\n",
    "    if (newestFirst) {\n",
    "        localData.reverse();\n",
    "    }\n",
    "    return localData;\n",
    "}"
   ]
  },
  {
   "cell_type": "markdown",
   "metadata": {},
   "source": [
    "### Handling Leaderboard Updates (Present in `GameLevel.js`)"
   ]
  },
  {
   "cell_type": "code",
   "execution_count": null,
   "metadata": {
    "vscode": {
     "languageId": "javascript"
    }
   },
   "outputs": [],
   "source": [
    "%%js\n",
    "handleLeaderboardUpdates(data) {\n",
    "    const existingTimeScores = JSON.parse(localStorage.getItem('GtimeScores')) || [];\n",
    "    existingTimeScores.push(data);\n",
    "    localStorage.setItem('GtimeScores', JSON.stringify(existingTimeScores));\n",
    "}"
   ]
  },
  {
   "cell_type": "markdown",
   "metadata": {},
   "source": [
    "### Clearing Leaderboard Data "
   ]
  },
  {
   "cell_type": "code",
   "execution_count": null,
   "metadata": {
    "vscode": {
     "languageId": "javascript"
    }
   },
   "outputs": [],
   "source": [
    "%%js\n",
    "clearTable () {\n",
    "    const table = document.getElementsByClassName(\"table scores\")[0];\n",
    "    localStorage.removeItem(Leaderboard.currentKey);\n",
    "    Leaderboard.currentPage = 1;\n",
    "    if (table) {\n",
    "        table.remove(); //remove old table if it is there\n",
    "    }\n",
    "    Leaderboard.updateLeaderboardDisplay();\n",
    "}"
   ]
  },
  {
   "cell_type": "markdown",
   "metadata": {},
   "source": [
    "# Summarization\n",
    "\n",
    "Local storage is utilized in `Leaderboard.js` to manage data, which includes saving, loading, sorting, and wiping scores. `GameLevel.js` also has a function which handles updates by saving new scores to the local storage. This is present in order to assure that the data is continuous across sessions and is able to be both retrieved and displayed when neccessary "
   ]
  },
  {
   "cell_type": "markdown",
   "metadata": {},
   "source": [
    "Here is what the actual leaderboard looks like in-game! (srum master lucas abuses us)\n",
    "\n",
    "![screenshot](/images/platformer/leaderboardScreenshot.png)"
   ]
  }
 ],
 "metadata": {
  "kernelspec": {
   "display_name": "Python 3",
   "language": "python",
   "name": "python3"
  },
  "language_info": {
   "codemirror_mode": {
    "name": "ipython",
    "version": 3
   },
   "file_extension": ".py",
   "mimetype": "text/x-python",
   "name": "python",
   "nbconvert_exporter": "python",
   "pygments_lexer": "ipython3",
   "version": "3.12.3"
  }
 },
 "nbformat": 4,
 "nbformat_minor": 2
}
