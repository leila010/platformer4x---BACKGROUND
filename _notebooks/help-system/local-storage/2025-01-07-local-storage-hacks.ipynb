{
 "cells": [
  {
   "cell_type": "code",
   "execution_count": null,
   "metadata": {
    "vscode": {
     "languageId": "yaml"
    }
   },
   "outputs": [],
   "source": [
    "---\n",
    "layout: post\n",
    "title: Local Storage Hacks\n",
    "author: Matthew Borg\n",
    "description: Carti once told me that to master Local Storage, you have to complete the following hacks.\n",
    "permalink: /local-storage/Hacks/\n",
    "menu: nav/local_storage.html\n",
    "toc: true\n",
    "---"
   ]
  },
  {
   "cell_type": "markdown",
   "metadata": {},
   "source": [
    "# Local storage Hack #1\n",
    "\n",
    "Heres a quick first hack for local storage that can help you understand the basics of it. As seen before, the following code can be used for storing and retrieving data after refreshing the session by local storage.\n",
    "\n"
   ]
  },
  {
   "cell_type": "code",
   "execution_count": null,
   "metadata": {
    "vscode": {
     "languageId": "html"
    }
   },
   "outputs": [],
   "source": [
    "\n",
    "<div>\n",
    "    <button onclick=\"saveData()\">Save Data</button>\n",
    "    <button onclick=\"loadData()\">Load Data</button>\n",
    "    <pre id=\"output\" style=\"border: 1px solid #ccc; padding: 10px; background-color:rgb(15, 15, 15);\"></pre>\n",
    "</div>\n",
    "\n",
    "<script>\n",
    "function saveData() {\n",
    "    localStorage.setItem(\"cat\", \"meow\");\n",
    "    alert(\"Data saved!\");\n",
    "}\n",
    "\n",
    "function loadData() {\n",
    "    const data = localStorage.getItem(\"cat\");\n",
    "    document.getElementById(\"output\").innerText = data ? `Stored data: ${data}` : \"No data found\";\n",
    "}\n",
    "</script>"
   ]
  },
  {
   "cell_type": "markdown",
   "metadata": {},
   "source": [
    "Now, try to replicate the code above, and change some parts of it"
   ]
  },
  {
   "cell_type": "markdown",
   "metadata": {},
   "source": [
    "# Local Storage Hack #2 Ingame\n",
    "\n"
   ]
  },
  {
   "cell_type": "markdown",
   "metadata": {},
   "source": [
    "Use localStorage to save and load a player's progress in a game using score and levels"
   ]
  },
  {
   "cell_type": "code",
   "execution_count": null,
   "metadata": {
    "vscode": {
     "languageId": "javascript"
    }
   },
   "outputs": [],
   "source": [
    "// Add let level and check if score and level are stored in localStorage; if not, initialize them\n",
    "let score = localStorage.getItem('score') ? parseInt(localStorage.getItem('score')) : 0;\n",
    "// Delete this comment and add code here\n",
    "\n",
    "\n",
    "// Update the displayed score and level\n",
    "document.getElementById('score').textContent = `Score: ${score}`;\n",
    "// Delete this comment and add code here\n",
    "\n",
    "\n",
    "// Event listener for the \"Earn Points\" button\n",
    "document.getElementById('scoreButton').addEventListener('click', function() {\n",
    "    score += 10;  // Increase score by 10 points\n",
    "    if (score >= 100) {\n",
    "        level++;  // Increase level if score reaches 100\n",
    "        score = 0; // Reset score when level up\n",
    "    }\n",
    "    // Update the displayed score and level\n",
    "    document.getElementById('score').textContent = `Score: ${score}`;\n",
    "    // Delete this comment and add code here\n",
    "   \n",
    "    // Add and save the updated score and level in localStorage\n",
    "    // Delete this comment and add code here\n",
    "    localStorage.setItem('level', level);\n",
    "});\n",
    "\n",
    "\n",
    "// Event listener for the \"Reset Game\" button\n",
    "document.getElementById('resetButton').addEventListener('click', function() {\n",
    "    score = 0;\n",
    "    level = 1;\n",
    "    // Update the displayed score and level\n",
    "    document.getElementById('score').textContent = `Score: ${score}`;\n",
    "    // Delete this comment and add code here\n",
    "   \n",
    "    // Reset localStorage and add score\n",
    "  // Delete this comment and add code here\n",
    "    localStorage.setItem('level', level);\n",
    "});\n",
    "\n"
   ]
  },
  {
   "cell_type": "markdown",
   "metadata": {},
   "source": [
    "# Local Storage Hack #3 "
   ]
  },
  {
   "cell_type": "markdown",
   "metadata": {},
   "source": [
    "Below is a modified version of the code shown in applications. It expands on saving info given, and when there is no info then there is an output of usually \"no data\" or \"nothing was entered\""
   ]
  },
  {
   "cell_type": "code",
   "execution_count": null,
   "metadata": {
    "vscode": {
     "languageId": "html"
    }
   },
   "outputs": [],
   "source": [
    "<div>\n",
    "    <button onclick=\"saveData()\">Save Data</button>\n",
    "    <button onclick=\"loadData()\">Load Data</button>\n",
    "    <pre id=\"output\" style=\"border: 1px solid #ccc; padding: 10px; background-color:rgb(15, 15, 15);\"></pre>\n",
    "</div>\n",
    "\n",
    "\n",
    "<script>\n",
    "function saveData() {\n",
    "    // Prompt the user for input to customize the bird's sound\n",
    "    const birdSound = prompt(\"Enter the sound of the bird (e.g., chirp):\");\n",
    "\n",
    "\n",
    "    // Check if the user entered something\n",
    "    if (birdSound) {\n",
    "        localStorage.setItem(\"bird\", birdSound); // Save the bird sound in localStorage\n",
    "        alert(\"Data saved!\");\n",
    "    } else {\n",
    "        alert(\"No sound entered. Data was not saved.\");\n",
    "    }\n",
    "}\n",
    "\n",
    "\n",
    "function loadData() {\n",
    "    // Retrieve the stored bird sound from localStorage\n",
    "    const data = localStorage.getItem(\"bird\");\n",
    "\n",
    "\n",
    "    // Display the data if found, otherwise show a message saying no data\n",
    "    document.getElementById(\"output\").innerText = data ? `Stored data: ${data}` : \"No data found\";\n",
    "}\n",
    "</script>\n"
   ]
  },
  {
   "cell_type": "markdown",
   "metadata": {},
   "source": [
    "Copy the code and change the const to whatever and change the animal,sound, and try to make 2 getItems"
   ]
  }
 ],
 "metadata": {
  "kernelspec": {
   "display_name": "Python 3",
   "language": "python",
   "name": "python3"
  },
  "language_info": {
   "codemirror_mode": {
    "name": "ipython",
    "version": 3
   },
   "file_extension": ".py",
   "mimetype": "text/x-python",
   "name": "python",
   "nbconvert_exporter": "python",
   "pygments_lexer": "ipython3",
   "version": "3.12.3"
  }
 },
 "nbformat": 4,
 "nbformat_minor": 2
}
