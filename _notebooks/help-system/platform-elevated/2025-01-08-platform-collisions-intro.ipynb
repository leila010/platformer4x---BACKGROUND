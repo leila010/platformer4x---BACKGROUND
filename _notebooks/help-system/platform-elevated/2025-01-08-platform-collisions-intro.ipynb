{
 "cells": [
  {
   "cell_type": "raw",
   "metadata": {
    "vscode": {
     "languageId": "raw"
    }
   },
   "source": [
    "---\n",
    "author: Srinaga Pillutla\n",
    "layout: post\n",
    "title: Collision intro\n",
    "description: In the intro we will be learning how we can detect collisions in the platformer game and how it applied.\n",
    "permalink: help-system/platform-elevated/collisions-intro\n",
    "toc: true\n",
    "comments: true\n",
    "categories: [Platforms]\n",
    "---\n",
    "\n"
   ]
  },
  {
   "cell_type": "markdown",
   "metadata": {},
   "source": [
    "# <span style=\"color: pink; text-shadow: 2px 2px 5px pink;\">Collisons Introduction </span>"
   ]
  },
  {
   "cell_type": "markdown",
   "metadata": {},
   "source": [
    "What is Collisons?\n",
    "- collisons are used to detect when two objects are touching, and to make them react accordingly. for example, when a player character touches a wall,\n",
    " - collison is detected, and the player character is stopped from moving through the wall.\n",
    "- collisons are an important part of game development, as they help to create a sense of realism and immersion in the game world."
   ]
  },
  {
   "cell_type": "code",
   "execution_count": null,
   "metadata": {
    "vscode": {
     "languageId": "javascript"
    }
   },
   "outputs": [],
   "source": [
    "if (this.collisionData.touchPoints.other.id === \"jumpPlatform\") {\n",
    "    // Collision with the left side of the Platform\n",
    "    console.log(\"id\");\n",
    "    if (this.collisionData.touchPoints.other.left && this.topOfPlatform) {\n",
    "        this.movement.right = false;\n",
    "        console.log(\"a\");\n",
    "    }\n",
    "    // Collision with the right side of the platform\n",
    "    if (this.collisionData.touchPoints.other.right && this.topOfPlatform) {\n",
    "        this.movement.left = false;\n",
    "        console.log(\"b\");\n",
    "    }\n",
    "    // Collision with the top of the player\n",
    "    if (this.collisionData.touchPoints.this.ontop) {\n",
    "        this.gravityEnabled = false;\n",
    "        console.log(\"c\");\n",
    "    }\n",
    "    if (this.collisionData.touchPoints.this.bottom) {\n",
    "        this.gravityEnabled = false;\n",
    "        console.log(\"d\");\n",
    "    }\n",
    "    if (this.collisionData.touchPoints.this.top) {\n",
    "        this.gravityEnabled = false;\n",
    "        this.topOfPlatform = true;\n",
    "        console.log(`${this.topOfPlatform} top`);\n",
    "        console.log(`${this.gravityEnabled} grav`);\n",
    "    }\n",
    "}"
   ]
  },
  {
   "cell_type": "markdown",
   "metadata": {},
   "source": [
    "## <span style=\"color: pink; text-shadow: 2px 2px 5px pink;\">Explanation to the code </span>"
   ]
  },
  {
   "cell_type": "markdown",
   "metadata": {},
   "source": [
    "Identify Platform: Checks if the collision is with \"jumpPlatform\".\n",
    "\n",
    "Left/Right Collision: Stops player movement if colliding with the left or right side.\n",
    "\n",
    "Top/Bottom Collision: Disables gravity if colliding with the top or bottom.\n",
    "\n",
    "Landing on Platform: Disables gravity and sets the player on top of the platform."
   ]
  },
  {
   "cell_type": "markdown",
   "metadata": {},
   "source": [
    "## <span style=\"color: pink; text-shadow: 2px 2px 5px pink;\">Application in IRL </span>"
   ]
  },
  {
   "cell_type": "markdown",
   "metadata": {},
   "source": [
    "Personally I would love this section of Programming cause this deals with coding cause it isn't always about game it can be applied in real life here an example code"
   ]
  },
  {
   "cell_type": "code",
   "execution_count": null,
   "metadata": {
    "vscode": {
     "languageId": "javascript"
    }
   },
   "outputs": [],
   "source": [
    "%%javascript\n",
    "\n",
    "import java.awt.geom.Point2D;\n",
    "\n",
    "public class Robot {\n",
    "\n",
    "    private Point2D.Double position;\n",
    "    private double radius;\n",
    "\n",
    "    public Robot(double x, double y, double radius) {\n",
    "        this.position = new Point2D.Double(x, y);\n",
    "        this.radius = radius;\n",
    "    }\n",
    "\n",
    "    public boolean detectCollision(Robot otherRobot) {\n",
    "        double distance = position.distance(otherRobot.position);\n",
    "        return distance <= this.radius + otherRobot.radius;\n",
    "    }\n",
    "}\n",
    "\n",
    "public class Main {\n",
    "\n",
    "    public static void main(String[] args) {\n",
    "        Robot robot1 = new Robot(10, 10, 5);\n",
    "        Robot robot2 = new Robot(20, 20, 5);\n",
    "\n",
    "        if (robot1.detectCollision(robot2)) {\n",
    "            System.out.println(\"Robot 1 is colliding with Robot 2.\");\n",
    "        } else {\n",
    "            System.out.println(\"No collision between robots.\");\n",
    "        }\n",
    "    }\n",
    "}"
   ]
  },
  {
   "cell_type": "markdown",
   "metadata": {},
   "source": [
    "1. Robot Class\n",
    "\n",
    "We have a Robot class. Think of it like a blueprint for creating robot objects.\n",
    "Each Robot has a position (where it is located) and a radius (how big it is).\n",
    "The detectCollision() method checks if two robots are touching.\n",
    "\n",
    "2. How Collision is Checked\n",
    "\n",
    "Imagine the robots as circles.\n",
    "The code calculates the distance between the centers of the two robots.\n",
    "If the distance is smaller than the sum of their radii, it means the robots are overlapping, and a collision has occurred.\n",
    "\n",
    "3. Main Class\n",
    "\n",
    "In the main part, we create two robot objects, robot1 and robot2.\n",
    "We give them starting positions and sizes (radius).\n",
    "Finally, we use the detectCollision() method to check if they are touching."
   ]
  },
  {
   "cell_type": "markdown",
   "metadata": {},
   "source": [
    "# <span style=\"color: pink; text-shadow: 2px 2px 5px blue;\">Summary   </span>"
   ]
  },
  {
   "cell_type": "markdown",
   "metadata": {},
   "source": [
    "Summary\n",
    " In conclusions Collisons are important for many reasons\n",
    "   \n",
    "   - As it Stopping you from going through walls: This makes the game world feel more solid and believable.\n",
    "\n",
    " - Making you interact with objects: You can pick up items, jump on platforms, and knock over obstacles.\n",
    " \n",
    " -Creating challenges: Collisions can be used to create obstacles and challenges that you need to overcome.\n",
    "\n",
    "\n",
    "\n"
   ]
  }
 ],
 "metadata": {
  "kernelspec": {
   "display_name": "Python 3",
   "language": "python",
   "name": "python3"
  },
  "language_info": {
   "codemirror_mode": {
    "name": "ipython",
    "version": 3
   },
   "file_extension": ".py",
   "mimetype": "text/x-python",
   "name": "python",
   "nbconvert_exporter": "python",
   "pygments_lexer": "ipython3",
   "version": "3.12.3"
  }
 },
 "nbformat": 4,
 "nbformat_minor": 2
}
